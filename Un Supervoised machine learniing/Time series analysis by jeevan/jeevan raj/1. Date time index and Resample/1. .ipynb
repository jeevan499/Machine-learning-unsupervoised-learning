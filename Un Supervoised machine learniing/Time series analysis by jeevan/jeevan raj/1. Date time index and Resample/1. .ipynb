{
 "cells": [
  {
   "cell_type": "markdown",
   "id": "83bad5e2",
   "metadata": {},
   "source": [
    "# Importing the libreary"
   ]
  },
  {
   "cell_type": "code",
   "execution_count": 1,
   "id": "f33808ed",
   "metadata": {},
   "outputs": [],
   "source": [
    "import pandas as pd\n",
    "import numpy as np\n",
    "import seaborn as sns\n",
    "import matplotlib.pyplot as plt\n",
    "from warnings import filterwarnings\n",
    "filterwarnings('ignore')"
   ]
  },
  {
   "cell_type": "code",
   "execution_count": null,
   "id": "af49a971",
   "metadata": {},
   "outputs": [],
   "source": []
  },
  {
   "cell_type": "code",
   "execution_count": null,
   "id": "51c9a776",
   "metadata": {},
   "outputs": [],
   "source": [
    "df=pd.read_csv"
   ]
  }
 ],
 "metadata": {
  "kernelspec": {
   "display_name": "Python 3 (ipykernel)",
   "language": "python",
   "name": "python3"
  },
  "language_info": {
   "codemirror_mode": {
    "name": "ipython",
    "version": 3
   },
   "file_extension": ".py",
   "mimetype": "text/x-python",
   "name": "python",
   "nbconvert_exporter": "python",
   "pygments_lexer": "ipython3",
   "version": "3.9.7"
  }
 },
 "nbformat": 4,
 "nbformat_minor": 5
}
